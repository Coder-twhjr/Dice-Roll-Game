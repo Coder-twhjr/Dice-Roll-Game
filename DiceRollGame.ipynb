{
  "nbformat": 4,
  "nbformat_minor": 0,
  "metadata": {
    "colab": {
      "provenance": [],
      "collapsed_sections": [],
      "include_colab_link": true
    },
    "kernelspec": {
      "display_name": "Python 3",
      "language": "python",
      "name": "python3"
    },
    "language_info": {
      "codemirror_mode": {
        "name": "ipython",
        "version": 3
      },
      "file_extension": ".py",
      "mimetype": "text/x-python",
      "name": "python",
      "nbconvert_exporter": "python",
      "pygments_lexer": "ipython3",
      "version": "3.7.3"
    }
  },
  "cells": [
    {
      "cell_type": "markdown",
      "metadata": {
        "id": "view-in-github",
        "colab_type": "text"
      },
      "source": [
        "<a href=\"https://colab.research.google.com/github/Coder-twhjr/Dice-Roll-Game/blob/main/DiceRollGame.ipynb\" target=\"_parent\"><img src=\"https://colab.research.google.com/assets/colab-badge.svg\" alt=\"Open In Colab\"/></a>"
      ]
    },
    {
      "cell_type": "markdown",
      "metadata": {
        "id": "e4QGT0wEyPzI"
      },
      "source": [
        "#Dice Roll Game"
      ]
    },
    {
      "cell_type": "markdown",
      "metadata": {
        "id": "L7UdXXKRkGZb"
      },
      "source": [
        "### Overview\n",
        "\n",
        "In this project, two players will roll the dice one after another for 10 rounds. In each round, if the number on dice face for player 1 is greater than that for player 2, player 1 scores a point else player 2 will score a point. After 10 rounds, the player having the highest score is declared as the winner."
      ]
    },
    {
      "cell_type": "markdown",
      "metadata": {
        "id": "CtDFzWSsvovW"
      },
      "source": [
        "---"
      ]
    },
    {
      "cell_type": "markdown",
      "metadata": {
        "id": "xJgFXPgFWIy8"
      },
      "source": [
        "#### Import the `random` Module and Create the required variables\n",
        "\n",
        "- Import the `random` module."
      ]
    },
    {
      "cell_type": "code",
      "metadata": {
        "id": "gJ0Bi5wWWIy9"
      },
      "source": [
        "import random"
      ],
      "execution_count": 1,
      "outputs": []
    },
    {
      "cell_type": "markdown",
      "metadata": {
        "id": "83_aZr2maqpV"
      },
      "source": [
        "___"
      ]
    },
    {
      "cell_type": "markdown",
      "metadata": {
        "id": "bkjFPSCAWIy9"
      },
      "source": [
        "#### Create the `dice_roll()` Function\n",
        "\n",
        "- Generate a random integer between 1 to 6 using `randint()` function and store this in a variable `dice_roll`\n",
        "- Return this variable.\n",
        "\n",
        "\n"
      ]
    },
    {
      "cell_type": "code",
      "metadata": {
        "id": "4nB5W-40WIy-"
      },
      "source": [
        "def dice_roll():\n",
        "    dice_roll = random.randint(1, 6)\n",
        "    return dice_roll"
      ],
      "execution_count": 2,
      "outputs": []
    },
    {
      "cell_type": "markdown",
      "metadata": {
        "id": "Ls05fsTWam5-"
      },
      "source": [
        "___"
      ]
    },
    {
      "cell_type": "markdown",
      "metadata": {
        "id": "TC7XPKJuWIy-"
      },
      "source": [
        "#### Create the `main()` Function\n",
        "\n"
      ]
    },
    {
      "cell_type": "markdown",
      "metadata": {
        "id": "TCAoDtY3WIzC"
      },
      "source": [
        "\n",
        "1. Create the `player1`, `player1_score`, `player2` and `player2_score` variables and set their initial values equal to `0`. Create a `rounds` variable and assign the value of `1` to it.\n",
        "2. Create a `while` loop which runs unless `rounds` equal to `10` i.e., till `rounds != 11`. Inside the `while` loop, perform the following tasks:\n",
        "  - Print current round using `print()` function, passing the `\"Rounds \"` string as well as `rounds` variable.\n",
        "  - Call `dice_roll()` function for Player 1 and Player 2 and store the return value in `player1` and `player2` variables respectively.\n",
        "  - Print the value of `player1` and `player2` variables.\n",
        "  - Using `if-else` statement, compare the values of `player1` and `player2` variables.\n",
        "     - If `player1 == player2`, print `Draw!`.\n",
        "     - Else if `player1 > player2`, increase the value of `player1_score` variable by `1` and print `Player 1 wins!`.\n",
        "     - Else increase `player2_score` by `1` and print `Player 2 wins!`.\n",
        " - Increase `rounds` variable value by `1`.\n",
        "\n",
        "3. Outside the `while` loop, compare the score of both the players obtained after 10 rounds by comparing the values of the variables `player1_score` and `player2_score`.\n",
        "\n",
        "  - If `player1_score == player2_score` then print `Draw!`.\n",
        "  - Else if `player1_score > player2_score` then print: \n",
        "  \n",
        "    `\"Final Winner: Player 1 - Rounds Won: \", player1_score` \n",
        "  \n",
        "  where `player1_score` contains the number of rounds won by player1.\n",
        "  \n",
        "  - Else print:\n",
        "    \n",
        "    `\"Final Winner: Player 2 - Rounds Won: \", player2_score` \n",
        "  \n",
        "   where `player2_score` contains the number of rounds won by player2.\n"
      ]
    },
    {
      "cell_type": "code",
      "metadata": {
        "id": "2XMA1KdpWIzD"
      },
      "source": [
        "def main():\n",
        "    player1 = 0\n",
        "    player1_score = 0\n",
        "    player2 = 0\n",
        "    player2_score = 0\n",
        "    rounds = 1\n",
        "\n",
        "    while rounds != 11:\n",
        "        print(\"Round: \", rounds)\n",
        "        player1 = dice_roll()\n",
        "        player2 = dice_roll()\n",
        "        print(\"Player 1 Roll: \", player1)\n",
        "        print(\"Player 2 Roll: \", player2)\n",
        "\n",
        "        if player1 == player2:\n",
        "            print(\"Draw!\")\n",
        "        elif player1 > player2:\n",
        "            player1_score = player1_score + 1\n",
        "            print(\"Player 1 wins!\")\n",
        "        else:\n",
        "            player2_score = player2_score + 1\n",
        "            print(\"Player 2 wins!\")\n",
        "        rounds = rounds + 1\n",
        "    if player1_score == player2_score:\n",
        "        print(\"Draw!\")\n",
        "    elif player1_score > player2_score:\n",
        "        print(\"Final Winner: Player 1- Rounds Won: \", player1_score)\n",
        "    else:\n",
        "        print(\"Final Winner: Player 2 - Rounds Won: \", player2_score)"
      ],
      "execution_count": 3,
      "outputs": []
    },
    {
      "cell_type": "markdown",
      "metadata": {
        "id": "fGZ3Tccua7NL"
      },
      "source": [
        "___"
      ]
    },
    {
      "cell_type": "code",
      "metadata": {
        "colab": {
          "base_uri": "https://localhost:8080/"
        },
        "id": "B1yCTn4bIlo7",
        "outputId": "35e4a530-e4ee-44cb-c46e-85a920373535"
      },
      "source": [
        "main()"
      ],
      "execution_count": 4,
      "outputs": [
        {
          "output_type": "stream",
          "name": "stdout",
          "text": [
            "Round:  1\n",
            "Player 1 Roll:  2\n",
            "Player 2 Roll:  5\n",
            "Player 2 wins!\n",
            "Round:  2\n",
            "Player 1 Roll:  4\n",
            "Player 2 Roll:  3\n",
            "Player 1 wins!\n",
            "Round:  3\n",
            "Player 1 Roll:  4\n",
            "Player 2 Roll:  1\n",
            "Player 1 wins!\n",
            "Round:  4\n",
            "Player 1 Roll:  3\n",
            "Player 2 Roll:  2\n",
            "Player 1 wins!\n",
            "Round:  5\n",
            "Player 1 Roll:  5\n",
            "Player 2 Roll:  4\n",
            "Player 1 wins!\n",
            "Round:  6\n",
            "Player 1 Roll:  4\n",
            "Player 2 Roll:  3\n",
            "Player 1 wins!\n",
            "Round:  7\n",
            "Player 1 Roll:  6\n",
            "Player 2 Roll:  6\n",
            "Draw!\n",
            "Round:  8\n",
            "Player 1 Roll:  4\n",
            "Player 2 Roll:  4\n",
            "Draw!\n",
            "Round:  9\n",
            "Player 1 Roll:  5\n",
            "Player 2 Roll:  5\n",
            "Draw!\n",
            "Round:  10\n",
            "Player 1 Roll:  3\n",
            "Player 2 Roll:  3\n",
            "Draw!\n",
            "Final Winner: Player 1- Rounds Won:  5\n"
          ]
        }
      ]
    },
    {
      "cell_type": "markdown",
      "metadata": {
        "id": "pU3gppd9Im0Z"
      },
      "source": [
        "---"
      ]
    }
  ]
}